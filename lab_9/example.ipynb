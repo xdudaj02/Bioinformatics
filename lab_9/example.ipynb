{
 "cells": [
  {
   "cell_type": "code",
   "execution_count": null,
   "metadata": {},
   "outputs": [],
   "source": [
    "from Bio.Seq import Seq\n",
    "from Bio import motifs\n",
    "from IPython.display import Image\n",
    "instances = []"
   ]
  },
  {
   "cell_type": "code",
   "execution_count": null,
   "metadata": {},
   "outputs": [],
   "source": [
    "# adicionar as várias ocorrências fo motif\n",
    "instances.append(Seq(\"TATAAAA\"))\n",
    "instances.append(Seq(\"TATAAAT\"))\n",
    "instances.append(Seq(\"TATATAT\"))\n",
    "instances.append(Seq(\"TATAAGG\"))\n",
    "instances.append(Seq(\"TATAATG\"))\n",
    "instances.append(Seq(\"CATAAAA\"))\n",
    "instances.append(Seq(\"CCTATAA\"))\n",
    "instances.append(Seq(\"TATAATC\"))"
   ]
  },
  {
   "cell_type": "code",
   "execution_count": null,
   "metadata": {},
   "outputs": [],
   "source": [
    "# criar o motif\n",
    "m = motifs.create(instances)"
   ]
  },
  {
   "cell_type": "code",
   "execution_count": null,
   "metadata": {},
   "outputs": [
    "TATAAAA\n",
    "TATAAAT\n",
    "TATATAT\n",
    "TATAAGG\n",
    "TATAATG\n",
    "CATAAAA\n",
    "CCTATAA\n",
    "TATAATC\n",
    "\n",
    "7\n",
    "TATAAAA\n",
    "        0      1      2      3      4      5      6\n",
    "A:   0.00   7.00   0.00   8.00   6.00   5.00   3.00\n",
    "C:   2.00   1.00   0.00   0.00   0.00   0.00   1.00\n",
    "G:   0.00   0.00   0.00   0.00   0.00   1.00   2.00\n",
    "T:   6.00   0.00   8.00   0.00   2.00   2.00   2.00\n",
    "\n",
    "        0      1      2      3      4      5      6\n",
    "A:   0.00   0.88   0.00   1.00   0.75   0.62   0.38\n",
    "C:   0.25   0.12   0.00   0.00   0.00   0.00   0.12\n",
    "G:   0.00   0.00   0.00   0.00   0.00   0.12   0.25\n",
    "T:   0.75   0.00   1.00   0.00   0.25   0.25   0.25\n",
    "\n",
    "        0      1      2      3      4      5      6\n",
    "A:   -inf   1.81   -inf   2.00   1.58   1.32   0.58\n",
    "C:   0.00  -1.00   -inf   -inf   -inf   -inf  -1.00\n",
    "G:   -inf   -inf   -inf   -inf   -inf  -1.00   0.00\n",
    "T:   1.58   -inf   2.00   -inf   0.00   0.00   0.00"
   ],
   "source": [
    "# sequências e tamanho\n",
    "print(m)\n",
    "print(len(m))\n",
    "# consensus motif\n",
    "print(m.consensus)\n",
    "# matriz de contagens\n",
    "print(m.counts)\n",
    "# matriz de frequencias\n",
    "print(m.pwm)\n",
    "# matriz de frequencias por posição normalizada: Position-Specific Scoring Matrix (PSSM)\n",
    "# PSSM = log(freq / freq_background)\n",
    "print(m.pssm)\n",
    "m.weblogo(\"TATA_motif.jpg\")\n",
    "Image(filename=\"TATA_motif.jpg\")"
   ]
  },
  {
   "cell_type": "code",
   "execution_count": null,
   "metadata": {},
   "outputs": [
    "        0      1      2      3      4      5      6\n",
    "A:   0.05   0.75   0.05   0.85   0.65   0.55   0.35\n",
    "C:   0.25   0.15   0.05   0.05   0.05   0.05   0.15\n",
    "G:   0.05   0.05   0.05   0.05   0.05   0.15   0.25\n",
    "T:   0.65   0.05   0.85   0.05   0.25   0.25   0.25\n",
    "\n",
    "        0      1      2      3      4      5      6\n",
    "A:  -2.32   1.58  -2.32   1.77   1.38   1.14   0.49\n",
    "C:   0.00  -0.74  -2.32  -2.32  -2.32  -2.32  -0.74\n",
    "G:  -2.32  -2.32  -2.32  -2.32  -2.32  -0.74   0.00\n",
    "T:   1.38  -2.32   1.77  -2.32   0.00   0.00   0.00"
   ],
   "source": [
    "# adicionar um pseudo-valor de 0.5 a cada uma das células para evitar valores zero e normaliza\n",
    "pwm = m.counts.normalize(pseudocounts=0.5)\n",
    "# transformar em rácios e escala logarítmica\n",
    "pssm = pwm.log_odds()\n",
    "print(pwm)\n",
    "print(pssm)"
   ]
  },
  {
   "cell_type": "code",
   "execution_count": null,
   "metadata": {},
   "outputs": [
    "22   CCTATAA"
   ],
   "source": [
    "# sequencia a pesquisar as ocorrencias do motifs\n",
    "target_seq = Seq(\"GTCGCTACTATAAACCTTACATCCTATAACGATATCTTTA\")\n",
    "# pesquisar na sequencia ocorrencias exatas das instâncias usadas para criar o motif\n",
    "# imprime a posição na target_seq e a instância encontrada\n",
    "for pos, seq in m.instances.search(target_seq):\n",
    "    print (pos, \" \", seq)"
   ]
  },
  {
   "cell_type": "code",
   "execution_count": null,
   "metadata": {},
   "outputs": [
    "Position -35: score = 4.658 seq= TACTATA\n",
    "Position 8: score = 8.274 seq= TATAAAC\n",
    "Position 22: score = 4.417 seq= CCTATAA\n",
    "Position 24: score = 5.551 seq= TATAACG"
   ],
   "source": [
    "# encontrar ocorrências do motif usando a matriz PSSM para classificar as ocorrências\n",
    "# usar um valor mínimo de 4 para o valor definir ponto de corte\n",
    "for position, score in pssm.search(target_seq, threshold=4.0):\n",
    "    print (\"Position %d: score = %5.3f seq= %s\" % (position, score, str(target_seq[position:(position+7)])))"
   ]
  },
  {
   "cell_type": "code",
   "execution_count": null,
   "metadata": {},
   "outputs": [
    "[-11.124213    -3.6017723   -7.9092007   -1.3643255   -5.828281\n",
    "   0.18355638   2.0951061   -3.9643424    8.273593    -6.8806314\n",
    "  -2.2367754   -7.7027497   -4.895395    -7.3022118   -1.7513486\n",
    "   0.02471683  -4.9457264   -0.6518129  -12.346606    -0.80793214\n",
    "  -8.150208    -2.1383717    4.417034    -5.1867347    5.551127\n",
    "  -7.7737164   -2.8648067   -3.5168834   -2.4777834   -6.3242383\n",
    "   0.4721758  -11.60964      2.407081    -8.802285  ]"
   ],
   "source": [
    "# Cálculo da pontuação de occorrência de possível motif na sequência de procura usando a função calculate\n",
    "# 40-7+1 possíveis posições\n",
    "print(pssm.calculate(target_seq))"
   ]
  }
 ],
 "metadata": {
  "kernelspec": {
   "display_name": "Python 3",
   "language": "python",
   "name": "python3"
  },
  "language_info": {
   "name": "python",
   "version": "3.11.0"
  }
 },
 "nbformat": 4,
 "nbformat_minor": 2
}
